{
 "cells": [
  {
   "cell_type": "code",
   "execution_count": 22,
   "id": "e526b3a7",
   "metadata": {},
   "outputs": [],
   "source": [
    "import numpy as np\n",
    "import pandas as pd\n",
    "from datetime import date\n",
    "\n",
    "import matplotlib.pyplot as plt\n",
    "import matplotlib as mpl\n"
   ]
  },
  {
   "cell_type": "code",
   "execution_count": 23,
   "id": "5dbe3c1b",
   "metadata": {},
   "outputs": [],
   "source": [
    "# Reading excel file\n",
    "books_read = pd.read_excel('info.xlsx', sheet_name='Books Read')\n",
    "books_read = books_read.drop(columns=['Pages Read', 'Pages Read.1', 'Complete', 'End Date', 'Progress'], errors='ignore')\n",
    "books_read['Date'] = pd.to_datetime(books_read['Date'], format='%d/%m/%Y')\n",
    "books_read = books_read.sort_values(by=['Date', 'Title'])\n",
    "# books_read['Pages Read'] = books_read.groupby('Title')['Current Page'].diff().fillna([100])\n",
    "# books_read.groupby('Title')['Current Page'].diff().fillna(0)\n",
    "# books_read.groupby('Title')['Current Page'].diff().fillna(10)\n",
    "\n",
    "\n",
    "\n",
    "books_read['Pages Read'] = (\n",
    "    books_read\n",
    "    .groupby('Title')['Current Page']\n",
    "    .diff()\n",
    ")\n",
    "\n",
    "# Get the first current page per book entry and use it to fill NaNs\n",
    "mask = books_read['Pages Read'].isna()\n",
    "books_read.loc[mask, 'Pages Read'] = books_read.loc[mask, 'Current Page']"
   ]
  },
  {
   "cell_type": "code",
   "execution_count": 24,
   "id": "f546ee84",
   "metadata": {},
   "outputs": [],
   "source": [
    "books_read.to_csv('books_read.csv', index=False)"
   ]
  },
  {
   "cell_type": "code",
   "execution_count": null,
   "id": "4e487973",
   "metadata": {},
   "outputs": [],
   "source": []
  }
 ],
 "metadata": {
  "kernelspec": {
   "display_name": "Python 3",
   "language": "python",
   "name": "python3"
  },
  "language_info": {
   "codemirror_mode": {
    "name": "ipython",
    "version": 3
   },
   "file_extension": ".py",
   "mimetype": "text/x-python",
   "name": "python",
   "nbconvert_exporter": "python",
   "pygments_lexer": "ipython3",
   "version": "3.10.5"
  }
 },
 "nbformat": 4,
 "nbformat_minor": 5
}
